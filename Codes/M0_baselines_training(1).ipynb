version https://git-lfs.github.com/spec/v1
oid sha256:86e0df8ef52177fb2028bd794388261a6641d5f61488fe75cee5e0f7800eee2e
size 22030
